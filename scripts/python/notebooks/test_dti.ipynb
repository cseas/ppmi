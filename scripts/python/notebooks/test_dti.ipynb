{
 "cells": [
  {
   "cell_type": "code",
   "execution_count": 2,
   "metadata": {},
   "outputs": [],
   "source": [
    "import os\n",
    "import numpy as np\n",
    "import matplotlib.pyplot as plt\n",
    "\n",
    "import warnings\n",
    "warnings.simplefilter(action='ignore', category=FutureWarning)\n",
    "\n",
    "import nibabel as nib\n",
    "import dipy"
   ]
  },
  {
   "cell_type": "code",
   "execution_count": 10,
   "metadata": {},
   "outputs": [
    {
     "data": {
      "text/plain": [
       "'/home/sld0465/projects/ppmi/scripts/python/notebooks'"
      ]
     },
     "execution_count": 10,
     "metadata": {},
     "output_type": "execute_result"
    }
   ],
   "source": [
    "pwd"
   ]
  },
  {
   "cell_type": "code",
   "execution_count": 11,
   "metadata": {
    "collapsed": true
   },
   "outputs": [],
   "source": [
    "filedir = \"../../../data_collection/output/3107/Baseline/DTI_1/\""
   ]
  },
  {
   "cell_type": "code",
   "execution_count": 8,
   "metadata": {
    "collapsed": true
   },
   "outputs": [],
   "source": [
    "fname = os.path.join(filedir, 'PPMI_3107_MR_DTI_gated__br_raw_20150629091815685_1_S264297_I498881.dcm')\n",
    "fname_23 = os.path.join(filedir, 'PPMI_3107_MR_DTI_gated__br_raw_20150629091816046_23_S264297_I498881.dcm')"
   ]
  },
  {
   "cell_type": "code",
   "execution_count": 9,
   "metadata": {},
   "outputs": [
    {
     "ename": "FileNotFoundError",
     "evalue": "[Errno 2] No such file or directory: '../../../data_collection/3107/DTI_gated/2015-05-08_09_43_35.0/S264297/PPMI_3107_MR_DTI_gated__br_raw_20150629091815685_1_S264297_I498881.dcm'",
     "output_type": "error",
     "traceback": [
      "\u001b[0;31m---------------------------------------------------------------------------\u001b[0m",
      "\u001b[0;31mFileNotFoundError\u001b[0m                         Traceback (most recent call last)",
      "\u001b[0;32m<ipython-input-9-559441352f6b>\u001b[0m in \u001b[0;36m<module>\u001b[0;34m()\u001b[0m\n\u001b[1;32m      1\u001b[0m \u001b[0;32mimport\u001b[0m \u001b[0mdicom\u001b[0m\u001b[0;34m\u001b[0m\u001b[0m\n\u001b[0;32m----> 2\u001b[0;31m \u001b[0mimg\u001b[0m \u001b[0;34m=\u001b[0m \u001b[0mdicom\u001b[0m\u001b[0;34m.\u001b[0m\u001b[0mread_file\u001b[0m\u001b[0;34m(\u001b[0m\u001b[0mfname\u001b[0m\u001b[0;34m)\u001b[0m\u001b[0;34m\u001b[0m\u001b[0m\n\u001b[0m\u001b[1;32m      3\u001b[0m \u001b[0mimg_23\u001b[0m \u001b[0;34m=\u001b[0m \u001b[0mdicom\u001b[0m\u001b[0;34m.\u001b[0m\u001b[0mread_file\u001b[0m\u001b[0;34m(\u001b[0m\u001b[0mfname_23\u001b[0m\u001b[0;34m)\u001b[0m\u001b[0;34m\u001b[0m\u001b[0m\n\u001b[1;32m      4\u001b[0m \u001b[0;34m\u001b[0m\u001b[0m\n\u001b[1;32m      5\u001b[0m \u001b[0mplt\u001b[0m\u001b[0;34m.\u001b[0m\u001b[0mimshow\u001b[0m\u001b[0;34m(\u001b[0m\u001b[0mimg\u001b[0m\u001b[0;34m.\u001b[0m\u001b[0mpixel_array\u001b[0m\u001b[0;34m)\u001b[0m\u001b[0;34m\u001b[0m\u001b[0m\n",
      "\u001b[0;32m/usr/local/bin/anaconda3/lib/python3.6/site-packages/dicom/filereader.py\u001b[0m in \u001b[0;36mread_file\u001b[0;34m(fp, defer_size, stop_before_pixels, force)\u001b[0m\n\u001b[1;32m    587\u001b[0m         \u001b[0mcaller_owns_file\u001b[0m \u001b[0;34m=\u001b[0m \u001b[0;32mFalse\u001b[0m\u001b[0;34m\u001b[0m\u001b[0m\n\u001b[1;32m    588\u001b[0m         \u001b[0mlogger\u001b[0m\u001b[0;34m.\u001b[0m\u001b[0mdebug\u001b[0m\u001b[0;34m(\u001b[0m\u001b[0;34m\"Reading file '{0}'\"\u001b[0m\u001b[0;34m.\u001b[0m\u001b[0mformat\u001b[0m\u001b[0;34m(\u001b[0m\u001b[0mfp\u001b[0m\u001b[0;34m)\u001b[0m\u001b[0;34m)\u001b[0m\u001b[0;34m\u001b[0m\u001b[0m\n\u001b[0;32m--> 589\u001b[0;31m         \u001b[0mfp\u001b[0m \u001b[0;34m=\u001b[0m \u001b[0mopen\u001b[0m\u001b[0;34m(\u001b[0m\u001b[0mfp\u001b[0m\u001b[0;34m,\u001b[0m \u001b[0;34m'rb'\u001b[0m\u001b[0;34m)\u001b[0m\u001b[0;34m\u001b[0m\u001b[0m\n\u001b[0m\u001b[1;32m    590\u001b[0m \u001b[0;34m\u001b[0m\u001b[0m\n\u001b[1;32m    591\u001b[0m     \u001b[0;32mif\u001b[0m \u001b[0mdicom\u001b[0m\u001b[0;34m.\u001b[0m\u001b[0mdebugging\u001b[0m\u001b[0;34m:\u001b[0m\u001b[0;34m\u001b[0m\u001b[0m\n",
      "\u001b[0;31mFileNotFoundError\u001b[0m: [Errno 2] No such file or directory: '../../../data_collection/3107/DTI_gated/2015-05-08_09_43_35.0/S264297/PPMI_3107_MR_DTI_gated__br_raw_20150629091815685_1_S264297_I498881.dcm'"
     ]
    }
   ],
   "source": [
    "import dicom\n",
    "img = dicom.read_file(fname)\n",
    "img_23 = dicom.read_file(fname_23)\n",
    "\n",
    "plt.imshow(img.pixel_array)"
   ]
  },
  {
   "cell_type": "code",
   "execution_count": 46,
   "metadata": {
    "scrolled": false
   },
   "outputs": [
    {
     "data": {
      "text/plain": [
       "(0008, 0000) Group Length                        UL: 856\n",
       "(0008, 0005) Specific Character Set              CS: 'ISO_IR 100'\n",
       "(0008, 0008) Image Type                          CS: ['ORIGINAL', 'PRIMARY', 'DIFFUSION', 'NONE', 'ND', 'NORM', 'MOSAIC']\n",
       "(0008, 0013) Instance Creation Time              TM: '094335.812000'\n",
       "(0008, 0016) SOP Class UID                       UI: MR Image Storage\n",
       "(0008, 0018) SOP Instance UID                    UI: 2.16.124.113543.6006.99.427384790119943815\n",
       "(0008, 0020) Study Date                          DA: '20150508'\n",
       "(0008, 0021) Series Date                         DA: '20150508'\n",
       "(0008, 0022) Acquisition Date                    DA: '20150508'\n",
       "(0008, 0023) Content Date                        DA: '20150508'\n",
       "(0008, 0030) Study Time                          TM: '093305.765000'\n",
       "(0008, 0031) Series Time                         TM: '094335.812000'\n",
       "(0008, 0032) Acquisition Time                    TM: '094322.655000'\n",
       "(0008, 0033) Content Time                        TM: '094335.812000'\n",
       "(0008, 0060) Modality                            CS: 'MR'\n",
       "(0008, 0070) Manufacturer                        LO: 'SIEMENS'\n",
       "(0008, 0080) Institution Name                    LO: 'Baylor College of Medicine'\n",
       "(0008, 0090) Referring Physician's Name          PN: ''\n",
       "(0008, 1030) Study Description                   LO: 'PPMI PD STUDY VB17A V4 +RESTING (Current)^PD GATING'\n",
       "(0008, 103e) Series Description                  LO: 'DTI_gated'\n",
       "(0008, 1060) Name of Physician(s) Reading Study  PN: ''\n",
       "(0008, 1070) Operators' Name                     PN: ''\n",
       "(0008, 1090) Manufacturer's Model Name           LO: 'TrioTim'\n",
       "(0008, 1140)  Referenced Image Sequence   3 item(s) ---- \n",
       "   (0008, 1150) Referenced SOP Class UID            UI: 2.16.124.113543.6006.99.4332567756067262732\n",
       "   (0008, 1155) Referenced SOP Instance UID         UI: 2.16.124.113543.6006.99.8786105851090726697\n",
       "   ---------\n",
       "   (0008, 1150) Referenced SOP Class UID            UI: 2.16.124.113543.6006.99.4332567756067262732\n",
       "   (0008, 1155) Referenced SOP Instance UID         UI: 2.16.124.113543.6006.99.09032640647208566959\n",
       "   ---------\n",
       "   (0008, 1150) Referenced SOP Class UID            UI: 2.16.124.113543.6006.99.4332567756067262732\n",
       "   (0008, 1155) Referenced SOP Instance UID         UI: 2.16.124.113543.6006.99.2588587626817650795\n",
       "   ---------\n",
       "(0010, 0000) Group Length                        UL: 76\n",
       "(0010, 0010) Patient's Name                      PN: 'DE-IDENTIFIED'\n",
       "(0010, 0020) Patient ID                          LO: '3107'\n",
       "(0010, 0040) Patient's Sex                       CS: 'M'\n",
       "(0010, 1010) Patient's Age                       AS: '073Y'\n",
       "(0010, 1030) Patient's Weight                    DS: '86.182561263'\n",
       "(0018, 0000) Group Length                        UL: 430\n",
       "(0018, 0020) Scanning Sequence                   CS: 'EP'\n",
       "(0018, 0021) Sequence Variant                    CS: ['SK', 'SP']\n",
       "(0018, 0022) Scan Options                        CS: ['PFP', 'FS', 'CT']\n",
       "(0018, 0023) MR Acquisition Type                 CS: '2D'\n",
       "(0018, 0024) Sequence Name                       SH: '*ep_b0'\n",
       "(0018, 0025) Angio Flag                          CS: 'N'\n",
       "(0018, 0050) Slice Thickness                     DS: '2'\n",
       "(0018, 0080) Repetition Time                     DS: '900'\n",
       "(0018, 0081) Echo Time                           DS: '88'\n",
       "(0018, 0083) Number of Averages                  DS: '1'\n",
       "(0018, 0084) Imaging Frequency                   DS: '123.254998'\n",
       "(0018, 0085) Imaged Nucleus                      SH: '1H'\n",
       "(0018, 0086) Echo Number(s)                      IS: '1'\n",
       "(0018, 0087) Magnetic Field Strength             DS: '3'\n",
       "(0018, 0088) Spacing Between Slices              DS: '2'\n",
       "(0018, 0089) Number of Phase Encoding Steps      IS: '90'\n",
       "(0018, 0091) Echo Train Length                   IS: '1'\n",
       "(0018, 0093) Percent Sampling                    DS: '100'\n",
       "(0018, 0094) Percent Phase Field of View         DS: '100'\n",
       "(0018, 0095) Pixel Bandwidth                     DS: '1596'\n",
       "(0018, 1000) Device Serial Number                LO: '4RYQhNAwMfVs'\n",
       "(0018, 1020) Software Version(s)                 LO: 'syngo MR B17'\n",
       "(0018, 1030) Protocol Name                       LO: 'DTI_gated'\n",
       "(0018, 1060) Trigger Time                        DS: '102.5'\n",
       "(0018, 1062) Nominal Interval                    IS: '0'\n",
       "(0018, 1090) Cardiac Number of Images            IS: '1'\n",
       "(0018, 1251) Transmit Coil Name                  SH: 'Body'\n",
       "(0018, 1310) Acquisition Matrix                  US: [116, 0, 0, 116]\n",
       "(0018, 1312) In-plane Phase Encoding Direction   CS: 'COL'\n",
       "(0018, 1314) Flip Angle                          DS: '90'\n",
       "(0018, 1315) Variable Flip Angle Flag            CS: 'N'\n",
       "(0018, 1316) SAR                                 DS: '0.44750377082959'\n",
       "(0018, 1318) dB/dt                               DS: '0'\n",
       "(0018, 5100) Patient Position                    CS: 'HFS'\n",
       "(0019, 0000) Private Creator                     UL: 814\n",
       "(0019, 0010) Private tag data                    LO: 'SIEMENS MR HEADER'\n",
       "(0019, 1008) [CSA Image Header Type]             CS: 'IMAGE NUM 4'\n",
       "(0019, 100a) [NumberOfImagesInMosaic]            US: 72\n",
       "(0019, 100b) [SliceMeasurementDuration]          DS: '30'\n",
       "(0019, 100c) [B_value]                           IS: '0'\n",
       "(0019, 100d) [DiffusionDirectionality]           CS: 'DIRECTIONAL'\n",
       "(0019, 1012) [TablePositionOrigin]               SL: [0, 0, -1262]\n",
       "(0019, 1013) [ImaAbsTablePosition]               SL: [0, 0, -1262]\n",
       "(0019, 1014) [ImaRelTablePosition]               IS: ['0', '0', '0']\n",
       "(0019, 1015) [SlicePosition_PCS]                 FD: [-1035.00001073, -1054.56627584, -66.27710724]\n",
       "(0019, 1016) [TimeAfterStart]                    DS: '0'\n",
       "(0019, 1017) [SliceResolution]                   DS: '1'\n",
       "(0019, 1018) [RealDwellTime]                     IS: '2700'\n",
       "(0019, 1028) [BandwidthPerPixelPhaseEncode]      FD: 24.284\n",
       "(0019, 1029) [MosaicRefAcqTimes]                 FD: [0.0, 1030.0, 2067.5, 3117.50000001, 4152.5, 5180.00000001, 6225.00000001, 7282.5, 8347.5, 9405.0, 10460.00000001, 127.5, 1160.0, 2195.00000001, 3247.5, 4282.5, 5307.5, 6375.0, 7432.5, 8497.5, 9555.00000001, 10610.0, 257.50000001, 1287.50000001, 2325.0, 3375.0, 4412.50000001, 5437.5, 6527.5, 7582.5, 8649.99999999, 9705.0, 10759.99999999, 387.5, 1417.5, 2452.5, 3505.0, 4540.00000001, 5567.5, 6677.50000001, 7732.5, 8800.0, 9855.0, 10912.50000001, 515.0, 1547.5, 2582.5, 3634.99999999, 4670.0, 5695.00000001, 6827.5, 7884.99999999, 8950.0, 10005.0, 11062.5, 645.0, 1675.0, 2712.49999999, 3762.5, 4800.0, 5825.0, 6977.50000001, 8035.0, 9100.00000001, 10157.5, 11212.49999999, 774.99999999, 1805.00000001, 2840.0, 3892.5, 4927.50000001, 5955.0]\n",
       "(0020, 0000) Group Length                        UL: 304\n",
       "(0020, 000d) Study Instance UID                  UI: 2.16.124.113543.6006.99.6783780091180425865\n",
       "(0020, 000e) Series Instance UID                 UI: 2.16.124.113543.6006.99.3064387884497310985\n",
       "(0020, 0010) Study ID                            SH: '1'\n",
       "(0020, 0011) Series Number                       IS: '2'\n",
       "(0020, 0012) Acquisition Number                  IS: '1'\n",
       "(0020, 0013) Instance Number                     IS: '1'\n",
       "(0020, 0032) Image Position (Patient)            DS: ['-1035.0000107288', '-1054.566275835', '-66.27710723877']\n",
       "(0020, 0037) Image Orientation (Patient)         DS: ['1', '0', '0', '0', '1', '0']\n",
       "(0020, 0052) Frame of Reference UID              UI: 2.16.124.113543.6006.99.4751121756617666150\n",
       "(0020, 1040) Position Reference Indicator        LO: ''\n",
       "(0020, 1041) Slice Location                      DS: '-66.27710723877'\n",
       "(0028, 0000) Group Length                        UL: 172\n",
       "(0028, 0002) Samples per Pixel                   US: 1\n",
       "(0028, 0004) Photometric Interpretation          CS: 'MONOCHROME2'\n",
       "(0028, 0010) Rows                                US: 1044\n",
       "(0028, 0011) Columns                             US: 1044\n",
       "(0028, 0030) Pixel Spacing                       DS: ['1.982758641243', '1.982758641243']\n",
       "(0028, 0100) Bits Allocated                      US: 16\n",
       "(0028, 0101) Bits Stored                         US: 12\n",
       "(0028, 0102) High Bit                            US: 11\n",
       "(0028, 0103) Pixel Representation                US: 0\n",
       "(0028, 0106) Smallest Image Pixel Value          US: 0\n",
       "(0028, 0107) Largest Image Pixel Value           US: 3946\n",
       "(0028, 1050) Window Center                       DS: '521'\n",
       "(0028, 1051) Window Width                        DS: '1123'\n",
       "(0029, 0000) Private Creator                     UL: 99574\n",
       "(0029, 1008) Private tag data                    CS: 'IMAGE NUM 4'\n",
       "(0029, 1010) Private tag data                    OB: Array of 12328 bytes\n",
       "(0029, 1018) Private tag data                    CS: 'MR'\n",
       "(0029, 1020) Private tag data                    OB: Array of 87192 bytes\n",
       "(0040, 0000) Group Length                        UL: 22\n",
       "(0040, 0245) Performed Procedure Step Start Time TM: '093305.812000'\n",
       "(0051, 0000) Private Creator                     UL: 54\n",
       "(0051, 1008) Private tag data                    CS: 'IMAGE NUM 4'\n",
       "(0051, 1016) Private tag data                    LO: 'p2 DIFFUSION/NONE/ND/NORM'\n",
       "(0088, 0000) Group Length                        UL: 206\n",
       "(0088, 0140) Storage Media File-set UID          UI: 2.16.124.113543.6006.99.8224084025596457745\n",
       "(0088, 0200)  Icon Image Sequence   1 item(s) ---- \n",
       "   (0028, 0002) Samples per Pixel                   US: 1\n",
       "   (0028, 0004) Photometric Interpretation          CS: 'PALETTE COLOR'\n",
       "   (0028, 0010) Rows                                US: 64\n",
       "   (0028, 0011) Columns                             US: 64\n",
       "   (0028, 0100) Bits Allocated                      US: 8\n",
       "   (0028, 0101) Bits Stored                         US: 8\n",
       "   (0028, 0102) High Bit                            US: 7\n",
       "   (0028, 0103) Pixel Representation                US: 0\n",
       "   (0028, 1101) Red Palette Color Lookup Table Desc US: [256, 0, 8]\n",
       "   (0028, 1102) Green Palette Color Lookup Table De US: [256, 0, 8]\n",
       "   (0028, 1103) Blue Palette Color Lookup Table Des US: [256, 0, 8]\n",
       "   ---------\n",
       "(7fe0, 0010) Pixel Data                          OW: Array of 2179872 bytes"
      ]
     },
     "execution_count": 46,
     "metadata": {},
     "output_type": "execute_result"
    }
   ],
   "source": [
    "img"
   ]
  },
  {
   "cell_type": "code",
   "execution_count": 60,
   "metadata": {},
   "outputs": [
    {
     "data": {
      "text/plain": [
       "(0008, 0000) Group Length                        UL: 858\n",
       "(0008, 0005) Specific Character Set              CS: 'ISO_IR 100'\n",
       "(0008, 0008) Image Type                          CS: ['ORIGINAL', 'PRIMARY', 'DIFFUSION', 'NONE', 'ND', 'NORM', 'MOSAIC']\n",
       "(0008, 0013) Instance Creation Time              TM: '094802.437000'\n",
       "(0008, 0016) SOP Class UID                       UI: MR Image Storage\n",
       "(0008, 0018) SOP Instance UID                    UI: 2.16.124.113543.6006.99.6247397472296988090\n",
       "(0008, 0020) Study Date                          DA: '20150508'\n",
       "(0008, 0021) Series Date                         DA: '20150508'\n",
       "(0008, 0022) Acquisition Date                    DA: '20150508'\n",
       "(0008, 0023) Content Date                        DA: '20150508'\n",
       "(0008, 0030) Study Time                          TM: '093305.765000'\n",
       "(0008, 0031) Series Time                         TM: '094335.812000'\n",
       "(0008, 0032) Acquisition Time                    TM: '094747.585000'\n",
       "(0008, 0033) Content Time                        TM: '094802.437000'\n",
       "(0008, 0060) Modality                            CS: 'MR'\n",
       "(0008, 0070) Manufacturer                        LO: 'SIEMENS'\n",
       "(0008, 0080) Institution Name                    LO: 'Baylor College of Medicine'\n",
       "(0008, 0090) Referring Physician's Name          PN: ''\n",
       "(0008, 1030) Study Description                   LO: 'PPMI PD STUDY VB17A V4 +RESTING (Current)^PD GATING'\n",
       "(0008, 103e) Series Description                  LO: 'DTI_gated'\n",
       "(0008, 1060) Name of Physician(s) Reading Study  PN: ''\n",
       "(0008, 1070) Operators' Name                     PN: ''\n",
       "(0008, 1090) Manufacturer's Model Name           LO: 'TrioTim'\n",
       "(0008, 1140)  Referenced Image Sequence   3 item(s) ---- \n",
       "   (0008, 1150) Referenced SOP Class UID            UI: 2.16.124.113543.6006.99.4332567756067262732\n",
       "   (0008, 1155) Referenced SOP Instance UID         UI: 2.16.124.113543.6006.99.8786105851090726697\n",
       "   ---------\n",
       "   (0008, 1150) Referenced SOP Class UID            UI: 2.16.124.113543.6006.99.4332567756067262732\n",
       "   (0008, 1155) Referenced SOP Instance UID         UI: 2.16.124.113543.6006.99.09032640647208566959\n",
       "   ---------\n",
       "   (0008, 1150) Referenced SOP Class UID            UI: 2.16.124.113543.6006.99.4332567756067262732\n",
       "   (0008, 1155) Referenced SOP Instance UID         UI: 2.16.124.113543.6006.99.2588587626817650795\n",
       "   ---------\n",
       "(0010, 0000) Group Length                        UL: 76\n",
       "(0010, 0010) Patient's Name                      PN: 'DE-IDENTIFIED'\n",
       "(0010, 0020) Patient ID                          LO: '3107'\n",
       "(0010, 0040) Patient's Sex                       CS: 'M'\n",
       "(0010, 1010) Patient's Age                       AS: '073Y'\n",
       "(0010, 1030) Patient's Weight                    DS: '86.182561263'\n",
       "(0018, 0000) Group Length                        UL: 436\n",
       "(0018, 0020) Scanning Sequence                   CS: 'EP'\n",
       "(0018, 0021) Sequence Variant                    CS: ['SK', 'SP']\n",
       "(0018, 0022) Scan Options                        CS: ['PFP', 'FS', 'CT']\n",
       "(0018, 0023) MR Acquisition Type                 CS: '2D'\n",
       "(0018, 0024) Sequence Name                       SH: '*ep_b1000#22'\n",
       "(0018, 0025) Angio Flag                          CS: 'N'\n",
       "(0018, 0050) Slice Thickness                     DS: '2'\n",
       "(0018, 0080) Repetition Time                     DS: '900'\n",
       "(0018, 0081) Echo Time                           DS: '88'\n",
       "(0018, 0083) Number of Averages                  DS: '1'\n",
       "(0018, 0084) Imaging Frequency                   DS: '123.254998'\n",
       "(0018, 0085) Imaged Nucleus                      SH: '1H'\n",
       "(0018, 0086) Echo Number(s)                      IS: '1'\n",
       "(0018, 0087) Magnetic Field Strength             DS: '3'\n",
       "(0018, 0088) Spacing Between Slices              DS: '2'\n",
       "(0018, 0089) Number of Phase Encoding Steps      IS: '90'\n",
       "(0018, 0091) Echo Train Length                   IS: '1'\n",
       "(0018, 0093) Percent Sampling                    DS: '100'\n",
       "(0018, 0094) Percent Phase Field of View         DS: '100'\n",
       "(0018, 0095) Pixel Bandwidth                     DS: '1596'\n",
       "(0018, 1000) Device Serial Number                LO: '4RYQhNAwMfVs'\n",
       "(0018, 1020) Software Version(s)                 LO: 'syngo MR B17'\n",
       "(0018, 1030) Protocol Name                       LO: 'DTI_gated'\n",
       "(0018, 1060) Trigger Time                        DS: '102.5'\n",
       "(0018, 1062) Nominal Interval                    IS: '0'\n",
       "(0018, 1090) Cardiac Number of Images            IS: '1'\n",
       "(0018, 1251) Transmit Coil Name                  SH: 'Body'\n",
       "(0018, 1310) Acquisition Matrix                  US: [116, 0, 0, 116]\n",
       "(0018, 1312) In-plane Phase Encoding Direction   CS: 'COL'\n",
       "(0018, 1314) Flip Angle                          DS: '90'\n",
       "(0018, 1315) Variable Flip Angle Flag            CS: 'N'\n",
       "(0018, 1316) SAR                                 DS: '0.44750377082959'\n",
       "(0018, 1318) dB/dt                               DS: '0'\n",
       "(0018, 5100) Patient Position                    CS: 'HFS'\n",
       "(0019, 0000) Private Creator                     UL: 910\n",
       "(0019, 0010) Private tag data                    LO: 'SIEMENS MR HEADER'\n",
       "(0019, 1008) [CSA Image Header Type]             CS: 'IMAGE NUM 4'\n",
       "(0019, 100a) [NumberOfImagesInMosaic]            US: 72\n",
       "(0019, 100b) [SliceMeasurementDuration]          DS: '30'\n",
       "(0019, 100c) [B_value]                           IS: '1000'\n",
       "(0019, 100d) [DiffusionDirectionality]           CS: 'DIRECTIONAL'\n",
       "(0019, 100e) [DiffusionGradientDirection]        FD: [-0.78985316, -0.15824226, 0.59252959]\n",
       "(0019, 1012) [TablePositionOrigin]               SL: [0, 0, -1262]\n",
       "(0019, 1013) [ImaAbsTablePosition]               SL: [0, 0, -1262]\n",
       "(0019, 1014) [ImaRelTablePosition]               IS: ['0', '0', '0']\n",
       "(0019, 1015) [SlicePosition_PCS]                 FD: [-1035.00001073, -1054.56627584, -66.27710724]\n",
       "(0019, 1016) [TimeAfterStart]                    DS: '276.175'\n",
       "(0019, 1017) [SliceResolution]                   DS: '1'\n",
       "(0019, 1018) [RealDwellTime]                     IS: '2700'\n",
       "(0019, 1027) [B_matrix]                          FD: [617.0, 124.0, -462.0, 25.0, -92.0, 348.0]\n",
       "(0019, 1028) [BandwidthPerPixelPhaseEncode]      FD: 24.284\n",
       "(0019, 1029) [MosaicRefAcqTimes]                 FD: [0.0, 1125.0, 2272.49999999, 3424.99999999, 4530.0, 5642.49999999, 6762.5, 7924.99999999, 9082.49999999, 10232.5, 11384.99999999, 127.49999999, 1254.99999999, 2402.5, 3552.49999999, 4659.99999999, 5769.99999999, 6914.99999999, 8075.0, 9232.5, 10384.99999999, 11534.99999999, 257.49999999, 1384.99999999, 2530.0, 3682.5, 4787.49999999, 5899.99999999, 7064.99999999, 8227.49999999, 9382.49999999, 10534.99999999, 11687.5, 387.5, 1512.5, 2659.99999999, 3812.5, 4917.5, 6030.0, 7215.0, 8377.49999999, 9532.49999999, 10685.0, 11837.49999999, 515.0, 1642.49999999, 2787.49999999, 3939.99999999, 5047.5, 6157.49999999, 7364.99999999, 8527.5, 9685.0, 10834.99999999, 11987.49999999, 644.99999999, 1769.99999999, 2917.5, 4069.99999999, 5174.99999999, 6287.49999999, 7517.49999999, 8677.49999999, 9834.99999999, 10987.49999999, 12137.5, 772.49999999, 1899.99999999, 3047.5, 4197.49999999, 5304.99999999, 6417.5]\n",
       "(0020, 0000) Group Length                        UL: 304\n",
       "(0020, 000d) Study Instance UID                  UI: 2.16.124.113543.6006.99.6783780091180425865\n",
       "(0020, 000e) Series Instance UID                 UI: 2.16.124.113543.6006.99.3064387884497310985\n",
       "(0020, 0010) Study ID                            SH: '1'\n",
       "(0020, 0011) Series Number                       IS: '2'\n",
       "(0020, 0012) Acquisition Number                  IS: '23'\n",
       "(0020, 0013) Instance Number                     IS: '23'\n",
       "(0020, 0032) Image Position (Patient)            DS: ['-1035.0000107288', '-1054.566275835', '-66.27710723877']\n",
       "(0020, 0037) Image Orientation (Patient)         DS: ['1', '0', '0', '0', '1', '0']\n",
       "(0020, 0052) Frame of Reference UID              UI: 2.16.124.113543.6006.99.4751121756617666150\n",
       "(0020, 1040) Position Reference Indicator        LO: ''\n",
       "(0020, 1041) Slice Location                      DS: '-66.27710723877'\n",
       "(0028, 0000) Group Length                        UL: 172\n",
       "(0028, 0002) Samples per Pixel                   US: 1\n",
       "(0028, 0004) Photometric Interpretation          CS: 'MONOCHROME2'\n",
       "(0028, 0010) Rows                                US: 1044\n",
       "(0028, 0011) Columns                             US: 1044\n",
       "(0028, 0030) Pixel Spacing                       DS: ['1.982758641243', '1.982758641243']\n",
       "(0028, 0100) Bits Allocated                      US: 16\n",
       "(0028, 0101) Bits Stored                         US: 12\n",
       "(0028, 0102) High Bit                            US: 11\n",
       "(0028, 0103) Pixel Representation                US: 0\n",
       "(0028, 0106) Smallest Image Pixel Value          US: 0\n",
       "(0028, 0107) Largest Image Pixel Value           US: 864\n",
       "(0028, 1050) Window Center                       DS: '174'\n",
       "(0028, 1051) Window Width                        DS: '408'\n",
       "(0029, 0000) Private Creator                     UL: 99898\n",
       "(0029, 1008) Private tag data                    CS: 'IMAGE NUM 4'\n",
       "(0029, 1010) Private tag data                    OB: Array of 12652 bytes\n",
       "(0029, 1018) Private tag data                    CS: 'MR'\n",
       "(0029, 1020) Private tag data                    OB: Array of 87192 bytes\n",
       "(0040, 0000) Group Length                        UL: 22\n",
       "(0040, 0245) Performed Procedure Step Start Time TM: '093305.812000'\n",
       "(0051, 0000) Private Creator                     UL: 54\n",
       "(0051, 1008) Private tag data                    CS: 'IMAGE NUM 4'\n",
       "(0051, 1016) Private tag data                    LO: 'p2 DIFFUSION/NONE/ND/NORM'\n",
       "(0088, 0000) Group Length                        UL: 206\n",
       "(0088, 0140) Storage Media File-set UID          UI: 2.16.124.113543.6006.99.8224084025596457745\n",
       "(0088, 0200)  Icon Image Sequence   1 item(s) ---- \n",
       "   (0028, 0002) Samples per Pixel                   US: 1\n",
       "   (0028, 0004) Photometric Interpretation          CS: 'PALETTE COLOR'\n",
       "   (0028, 0010) Rows                                US: 64\n",
       "   (0028, 0011) Columns                             US: 64\n",
       "   (0028, 0100) Bits Allocated                      US: 8\n",
       "   (0028, 0101) Bits Stored                         US: 8\n",
       "   (0028, 0102) High Bit                            US: 7\n",
       "   (0028, 0103) Pixel Representation                US: 0\n",
       "   (0028, 1101) Red Palette Color Lookup Table Desc US: [256, 0, 8]\n",
       "   (0028, 1102) Green Palette Color Lookup Table De US: [256, 0, 8]\n",
       "   (0028, 1103) Blue Palette Color Lookup Table Des US: [256, 0, 8]\n",
       "   ---------\n",
       "(7fe0, 0010) Pixel Data                          OW: Array of 2179872 bytes"
      ]
     },
     "execution_count": 60,
     "metadata": {},
     "output_type": "execute_result"
    }
   ],
   "source": [
    "img_23"
   ]
  },
  {
   "cell_type": "code",
   "execution_count": 53,
   "metadata": {},
   "outputs": [
    {
     "data": {
      "text/plain": [
       "'../../data_collection/3107/DTI_gated/2015-05-08_09_43_35.0/S264297'"
      ]
     },
     "execution_count": 53,
     "metadata": {},
     "output_type": "execute_result"
    }
   ],
   "source": [
    "filedir"
   ]
  },
  {
   "cell_type": "code",
   "execution_count": 54,
   "metadata": {},
   "outputs": [
    {
     "ename": "TypeError",
     "evalue": "'NoneType' object is not callable",
     "output_type": "error",
     "traceback": [
      "\u001b[0;31m---------------------------------------------------------------------------\u001b[0m",
      "\u001b[0;31mTypeError\u001b[0m                                 Traceback (most recent call last)",
      "\u001b[0;32m<ipython-input-54-0a82e321669d>\u001b[0m in \u001b[0;36m<module>\u001b[0;34m()\u001b[0m\n\u001b[1;32m      1\u001b[0m \u001b[0;32mimport\u001b[0m \u001b[0mnibabel\u001b[0m\u001b[0;34m.\u001b[0m\u001b[0mnicom\u001b[0m\u001b[0;34m.\u001b[0m\u001b[0mdicomreaders\u001b[0m\u001b[0;34m\u001b[0m\u001b[0m\n\u001b[0;32m----> 2\u001b[0;31m \u001b[0mimg_mosaic\u001b[0m \u001b[0;34m=\u001b[0m \u001b[0mnibabel\u001b[0m\u001b[0;34m.\u001b[0m\u001b[0mnicom\u001b[0m\u001b[0;34m.\u001b[0m\u001b[0mdicomreaders\u001b[0m\u001b[0;34m.\u001b[0m\u001b[0mread_mosaic_dir\u001b[0m\u001b[0;34m(\u001b[0m\u001b[0mfiledir\u001b[0m\u001b[0;34m)\u001b[0m\u001b[0;34m\u001b[0m\u001b[0m\n\u001b[0m",
      "\u001b[0;32m~/python3/tensorflow/local/lib/python3.5/site-packages/nibabel/nicom/dicomreaders.py\u001b[0m in \u001b[0;36mread_mosaic_dir\u001b[0;34m(dicom_path, globber, check_is_dwi, dicom_kwargs)\u001b[0m\n\u001b[1;32m     87\u001b[0m         \u001b[0;32mraise\u001b[0m \u001b[0mIOError\u001b[0m\u001b[0;34m(\u001b[0m\u001b[0;34m'Found no files with \"%s\"'\u001b[0m \u001b[0;34m%\u001b[0m \u001b[0mfull_globber\u001b[0m\u001b[0;34m)\u001b[0m\u001b[0;34m\u001b[0m\u001b[0m\n\u001b[1;32m     88\u001b[0m     \u001b[0;32mfor\u001b[0m \u001b[0mfname\u001b[0m \u001b[0;32min\u001b[0m \u001b[0mfilenames\u001b[0m\u001b[0;34m:\u001b[0m\u001b[0;34m\u001b[0m\u001b[0m\n\u001b[0;32m---> 89\u001b[0;31m         \u001b[0mdcm_w\u001b[0m \u001b[0;34m=\u001b[0m \u001b[0mwrapper_from_file\u001b[0m\u001b[0;34m(\u001b[0m\u001b[0mfname\u001b[0m\u001b[0;34m,\u001b[0m \u001b[0;34m**\u001b[0m\u001b[0mdicom_kwargs\u001b[0m\u001b[0;34m)\u001b[0m\u001b[0;34m\u001b[0m\u001b[0m\n\u001b[0m\u001b[1;32m     90\u001b[0m         \u001b[0;31m# Because the routine sorts by filename, it only makes sense to use\u001b[0m\u001b[0;34m\u001b[0m\u001b[0;34m\u001b[0m\u001b[0m\n\u001b[1;32m     91\u001b[0m         \u001b[0;31m# this order for mosaic images.  Slice by slice dicoms need more\u001b[0m\u001b[0;34m\u001b[0m\u001b[0;34m\u001b[0m\u001b[0m\n",
      "\u001b[0;32m~/python3/tensorflow/local/lib/python3.5/site-packages/nibabel/nicom/dicomwrappers.py\u001b[0m in \u001b[0;36mwrapper_from_file\u001b[0;34m(file_like, *args, **kwargs)\u001b[0m\n\u001b[1;32m     55\u001b[0m \u001b[0;34m\u001b[0m\u001b[0m\n\u001b[1;32m     56\u001b[0m     \u001b[0;32mwith\u001b[0m \u001b[0mImageOpener\u001b[0m\u001b[0;34m(\u001b[0m\u001b[0mfile_like\u001b[0m\u001b[0;34m)\u001b[0m \u001b[0;32mas\u001b[0m \u001b[0mfobj\u001b[0m\u001b[0;34m:\u001b[0m\u001b[0;34m\u001b[0m\u001b[0m\n\u001b[0;32m---> 57\u001b[0;31m         \u001b[0mdcm_data\u001b[0m \u001b[0;34m=\u001b[0m \u001b[0mread_file\u001b[0m\u001b[0;34m(\u001b[0m\u001b[0mfobj\u001b[0m\u001b[0;34m,\u001b[0m \u001b[0;34m*\u001b[0m\u001b[0margs\u001b[0m\u001b[0;34m,\u001b[0m \u001b[0;34m**\u001b[0m\u001b[0mkwargs\u001b[0m\u001b[0;34m)\u001b[0m\u001b[0;34m\u001b[0m\u001b[0m\n\u001b[0m\u001b[1;32m     58\u001b[0m     \u001b[0;32mreturn\u001b[0m \u001b[0mwrapper_from_data\u001b[0m\u001b[0;34m(\u001b[0m\u001b[0mdcm_data\u001b[0m\u001b[0;34m)\u001b[0m\u001b[0;34m\u001b[0m\u001b[0m\n\u001b[1;32m     59\u001b[0m \u001b[0;34m\u001b[0m\u001b[0m\n",
      "\u001b[0;31mTypeError\u001b[0m: 'NoneType' object is not callable"
     ]
    }
   ],
   "source": [
    "import nibabel.nicom.dicomreaders\n",
    "img_mosaic = nibabel.nicom.dicomreaders.read_mosaic_dir(filedir)"
   ]
  },
  {
   "cell_type": "code",
   "execution_count": 62,
   "metadata": {},
   "outputs": [
    {
     "name": "stdout",
     "output_type": "stream",
     "text": [
      "<class 'nibabel.nifti1.Nifti1Header'> object, endian='>'\n",
      "sizeof_hdr      : 348\n",
      "data_type       : b''\n",
      "db_name         : b'3107'\n",
      "extents         : 16384\n",
      "session_error   : 0\n",
      "regular         : b'r'\n",
      "dim_info        : 0\n",
      "dim             : [  4 116 116  72   1   0   0   0]\n",
      "intent_p1       : 0.0\n",
      "intent_p2       : 0.0\n",
      "intent_p3       : 0.0\n",
      "intent_code     : none\n",
      "datatype        : uint16\n",
      "bitpix          : 16\n",
      "slice_start     : 0\n",
      "pixdim          : [1.        1.9827586 1.9827586 2.        0.        0.        0.\n",
      " 0.       ]\n",
      "vox_offset      : 0.0\n",
      "scl_slope       : nan\n",
      "scl_inter       : nan\n",
      "slice_end       : 0\n",
      "slice_code      : unknown\n",
      "xyzt_units      : 2\n",
      "cal_max         : 0.0\n",
      "cal_min         : 0.0\n",
      "slice_duration  : 0.0\n",
      "toffset         : 0.0\n",
      "glmax           : 0\n",
      "glmin           : 0\n",
      "descrip         : b''\n",
      "aux_file        : b''\n",
      "qform_code      : scanner\n",
      "sform_code      : unknown\n",
      "quatern_b       : 0.0\n",
      "quatern_c       : 0.0\n",
      "quatern_d       : 1.0\n",
      "qoffset_x       : 115.0\n",
      "qoffset_y       : 134.56627\n",
      "qoffset_z       : -66.27711\n",
      "srow_x          : [0. 0. 0. 0.]\n",
      "srow_y          : [0. 0. 0. 0.]\n",
      "srow_z          : [0. 0. 0. 0.]\n",
      "intent_name     : b''\n",
      "magic           : b'n+1'\n"
     ]
    }
   ],
   "source": [
    "fname_nii = os.path.join(filedir, 'PPMI_3107_MR_DTI_gated__br_raw_20150629091756100_36_S264297_I498881.nii')\n",
    "fname_23_nii = os.path.join(filedir, 'PPMI_3107_MR_DTI_gated__br_raw_20150629091816046_23_S264297_I498881.nii')\n",
    "\n",
    "img_nii = nib.load(fname_nii)\n",
    "img_23_nii = nib.load(fname_23_nii)\n",
    "print(img_nii.header)"
   ]
  },
  {
   "cell_type": "code",
   "execution_count": 14,
   "metadata": {},
   "outputs": [
    {
     "data": {
      "text/plain": [
       "(1.9827586, 1.9827586, 2.0, 0.0)"
      ]
     },
     "execution_count": 14,
     "metadata": {},
     "output_type": "execute_result"
    }
   ],
   "source": [
    "img.header.get_zooms()"
   ]
  },
  {
   "cell_type": "code",
   "execution_count": 12,
   "metadata": {
    "collapsed": true
   },
   "outputs": [],
   "source": [
    "data = img.get_data()"
   ]
  },
  {
   "cell_type": "code",
   "execution_count": 13,
   "metadata": {},
   "outputs": [
    {
     "name": "stdout",
     "output_type": "stream",
     "text": [
      "(116, 116, 72, 1)\n"
     ]
    }
   ],
   "source": [
    "print(data.shape)"
   ]
  },
  {
   "cell_type": "code",
   "execution_count": 26,
   "metadata": {
    "scrolled": true
   },
   "outputs": [
    {
     "data": {
      "image/png": "[encoded data removed]",
      "text/plain": [
       "<matplotlib.figure.Figure at 0x7f636d88d208>"
      ]
     },
     "metadata": {},
     "output_type": "display_data"
    }
   ],
   "source": [
    "axial_middle = data.shape[2] // 2\n",
    "plt.figure('Showing the datasets')\n",
    "plt.imshow(data[:, :, axial_middle, 0].T, origin='upper')\n",
    "plt.show()"
   ]
  },
  {
   "cell_type": "code",
   "execution_count": 64,
   "metadata": {},
   "outputs": [
    {
     "name": "stdout",
     "output_type": "stream",
     "text": [
      "<class 'nibabel.nifti1.Nifti1Header'> object, endian='>'\n",
      "sizeof_hdr      : 348\n",
      "data_type       : b''\n",
      "db_name         : b'3107'\n",
      "extents         : 16384\n",
      "session_error   : 0\n",
      "regular         : b'r'\n",
      "dim_info        : 0\n",
      "dim             : [  4 116 116  72   1   0   0   0]\n",
      "intent_p1       : 0.0\n",
      "intent_p2       : 0.0\n",
      "intent_p3       : 0.0\n",
      "intent_code     : none\n",
      "datatype        : uint16\n",
      "bitpix          : 16\n",
      "slice_start     : 0\n",
      "pixdim          : [1.        1.9827586 1.9827586 2.        0.        0.        0.\n",
      " 0.       ]\n",
      "vox_offset      : 0.0\n",
      "scl_slope       : nan\n",
      "scl_inter       : nan\n",
      "slice_end       : 0\n",
      "slice_code      : unknown\n",
      "xyzt_units      : 2\n",
      "cal_max         : 0.0\n",
      "cal_min         : 0.0\n",
      "slice_duration  : 0.0\n",
      "toffset         : 0.0\n",
      "glmax           : 0\n",
      "glmin           : 0\n",
      "descrip         : b''\n",
      "aux_file        : b''\n",
      "qform_code      : scanner\n",
      "sform_code      : unknown\n",
      "quatern_b       : 0.0\n",
      "quatern_c       : 0.0\n",
      "quatern_d       : 1.0\n",
      "qoffset_x       : 115.0\n",
      "qoffset_y       : 134.56627\n",
      "qoffset_z       : -66.27711\n",
      "srow_x          : [0. 0. 0. 0.]\n",
      "srow_y          : [0. 0. 0. 0.]\n",
      "srow_z          : [0. 0. 0. 0.]\n",
      "intent_name     : b''\n",
      "magic           : b'n+1'\n"
     ]
    }
   ],
   "source": [
    "print(img_23_nii.header)"
   ]
  }
 ],
 "metadata": {
  "kernelspec": {
   "display_name": "Python 3",
   "language": "python",
   "name": "python3"
  },
  "language_info": {
   "codemirror_mode": {
    "name": "ipython",
    "version": 3
   },
   "file_extension": ".py",
   "mimetype": "text/x-python",
   "name": "python",
   "nbconvert_exporter": "python",
   "pygments_lexer": "ipython3",
   "version": "3.6.3"
  },
  "widgets": {
   "state": {},
   "version": "1.1.2"
  }
 },
 "nbformat": 4,
 "nbformat_minor": 2
}
