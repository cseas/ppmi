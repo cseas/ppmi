{
 "cells": [
  {
   "cell_type": "code",
   "execution_count": 1,
   "metadata": {
    "collapsed": true
   },
   "outputs": [],
   "source": [
    "import os \n",
    "import sys\n",
    "import re\n",
    "import glob\n",
    "import zipfile\n",
    "from os.path import basename\n",
    "from lxml import etree"
   ]
  },
  {
   "cell_type": "code",
   "execution_count": 2,
   "metadata": {
    "collapsed": true
   },
   "outputs": [],
   "source": [
    "os.chdir(\"..\")"
   ]
  },
  {
   "cell_type": "code",
   "execution_count": 3,
   "metadata": {},
   "outputs": [
    {
     "data": {
      "text/plain": [
       "'/home/sld0465/projects/ppmi'"
      ]
     },
     "execution_count": 3,
     "metadata": {},
     "output_type": "execute_result"
    }
   ],
   "source": [
    "os.getcwd()"
   ]
  },
  {
   "cell_type": "code",
   "execution_count": 22,
   "metadata": {
    "collapsed": true
   },
   "outputs": [],
   "source": [
    "data_dir = \"PPMI\"\n",
    "output_dir = \"output\"\n",
    "metadata_dir = data_dir + \"/metadata\""
   ]
  },
  {
   "cell_type": "code",
   "execution_count": 5,
   "metadata": {
    "collapsed": true
   },
   "outputs": [],
   "source": [
    "metadata_files = os.listdir(metadata_dir)"
   ]
  },
  {
   "cell_type": "code",
   "execution_count": 6,
   "metadata": {
    "collapsed": true
   },
   "outputs": [],
   "source": [
    "p = re.compile(r\"(^PPMI)_([0-9]*)_(.*)_(S[0-9]*)_(I[0-9]*).xml\")"
   ]
  },
  {
   "cell_type": "code",
   "execution_count": 7,
   "metadata": {
    "collapsed": true
   },
   "outputs": [],
   "source": [
    "metadata_splits = [re.search(p,s).groups() for s in metadata_files]"
   ]
  },
  {
   "cell_type": "code",
   "execution_count": 8,
   "metadata": {
    "collapsed": true
   },
   "outputs": [],
   "source": [
    "mfile = metadata_files[0]\n",
    "mdict = dict(zip([\"dir\", \"id\", \"descr\", \"series\", \"image\"], metadata_splits[0]))\n",
    "mfile_fullpath = metadata_dir + \"/\" + mfile"
   ]
  },
  {
   "cell_type": "code",
   "execution_count": 9,
   "metadata": {},
   "outputs": [
    {
     "data": {
      "text/plain": [
       "{'descr': 'Axial_PD-T2_TSE_FS',\n",
       " 'dir': 'PPMI',\n",
       " 'id': '3105',\n",
       " 'image': 'I372313',\n",
       " 'series': 'S189363'}"
      ]
     },
     "execution_count": 9,
     "metadata": {},
     "output_type": "execute_result"
    }
   ],
   "source": [
    "mdict"
   ]
  },
  {
   "cell_type": "code",
   "execution_count": 10,
   "metadata": {
    "collapsed": true
   },
   "outputs": [],
   "source": [
    "def create_dir_from_mdict(m):\n",
    "    return(m[\"dir\"] + \"/\" + m[\"id\"] + \"/\" + m[\"descr\"])"
   ]
  },
  {
   "cell_type": "code",
   "execution_count": 11,
   "metadata": {},
   "outputs": [
    {
     "data": {
      "text/plain": [
       "'PPMI/3105/Axial_PD-T2_TSE_FS'"
      ]
     },
     "execution_count": 11,
     "metadata": {},
     "output_type": "execute_result"
    }
   ],
   "source": [
    "mdir = create_dir_from_mdict(mdict)\n",
    "mdir"
   ]
  },
  {
   "cell_type": "code",
   "execution_count": 12,
   "metadata": {
    "collapsed": true
   },
   "outputs": [],
   "source": [
    "# We do not know the exact directory location as we do not know what time and date\n",
    "# this folder is named with. So we use the pattern /*/ to match it\n",
    "match_str = mdir + \"/*/%(series)s/%(dir)s_%(id)s_*.dcm\" % mdict"
   ]
  },
  {
   "cell_type": "code",
   "execution_count": 13,
   "metadata": {},
   "outputs": [
    {
     "data": {
      "text/plain": [
       "'PPMI/3105/Axial_PD-T2_TSE_FS/*/S189363/PPMI_3105_*.dcm'"
      ]
     },
     "execution_count": 13,
     "metadata": {},
     "output_type": "execute_result"
    }
   ],
   "source": [
    "match_str"
   ]
  },
  {
   "cell_type": "code",
   "execution_count": 14,
   "metadata": {
    "collapsed": true
   },
   "outputs": [],
   "source": [
    "matched_dcms = glob.glob(match_str)"
   ]
  },
  {
   "cell_type": "code",
   "execution_count": 15,
   "metadata": {
    "collapsed": true
   },
   "outputs": [],
   "source": [
    "metaroot = etree.parse(mfile_fullpath)"
   ]
  },
  {
   "cell_type": "code",
   "execution_count": 16,
   "metadata": {},
   "outputs": [
    {
     "data": {
      "text/plain": [
       "'Month 24'"
      ]
     },
     "execution_count": 16,
     "metadata": {},
     "output_type": "execute_result"
    }
   ],
   "source": [
    "visit_identifier = metaroot.findtext('.//visitIdentifier')\n",
    "visit_identifier"
   ]
  },
  {
   "cell_type": "code",
   "execution_count": 17,
   "metadata": {},
   "outputs": [
    {
     "data": {
      "text/plain": [
       "'2013-04-18'"
      ]
     },
     "execution_count": 17,
     "metadata": {},
     "output_type": "execute_result"
    }
   ],
   "source": [
    "date_acquired = metaroot.findtext(\".//dateAcquired\")\n",
    "date_acquired"
   ]
  },
  {
   "cell_type": "code",
   "execution_count": 18,
   "metadata": {},
   "outputs": [
    {
     "data": {
      "text/plain": [
       "'PPMI_3105_MR_Axial_PD-T2_TSE_FS_br_raw_20130515091800455_43_S189363_I372313.dcm'"
      ]
     },
     "execution_count": 18,
     "metadata": {},
     "output_type": "execute_result"
    }
   ],
   "source": [
    "basename(matched_dcms[0])"
   ]
  },
  {
   "cell_type": "code",
   "execution_count": 19,
   "metadata": {
    "collapsed": true
   },
   "outputs": [],
   "source": [
    "xarfile = zipfile.ZipFile(\"tmp/testxar.zip\", mode=\"w\", compression=zipfile.ZIP_DEFLATED)\n",
    "\n",
    "for filename in matched_dcms:\n",
    "    xarfile.write(filename, basename(filename))\n",
    "\n",
    "xarfile.close()"
   ]
  }
 ],
 "metadata": {
  "kernelspec": {
   "display_name": "Python 3",
   "language": "python",
   "name": "python3"
  },
  "language_info": {
   "codemirror_mode": {
    "name": "ipython",
    "version": 3
   },
   "file_extension": ".py",
   "mimetype": "text/x-python",
   "name": "python",
   "nbconvert_exporter": "python",
   "pygments_lexer": "ipython3",
   "version": "3.6.3"
  }
 },
 "nbformat": 4,
 "nbformat_minor": 2
}
